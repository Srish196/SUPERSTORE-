{
 "cells": [
  {
   "cell_type": "markdown",
   "metadata": {},
   "source": [
    "# IMPORTING LIBRARIES"
   ]
  },
  {
   "cell_type": "code",
   "execution_count": 1,
   "metadata": {},
   "outputs": [],
   "source": [
    "from matplotlib import pyplot as plt\n",
    "import numpy as np\n",
    "import pandas as pd\n",
    "import seaborn as sns\n"
   ]
  },
  {
   "cell_type": "markdown",
   "metadata": {},
   "source": [
    "# IMPORTING DATA"
   ]
  },
  {
   "cell_type": "code",
   "execution_count": 6,
   "metadata": {},
   "outputs": [],
   "source": [
    "df=pd.read_excel('Superstore.xlsx')"
   ]
  },
  {
   "cell_type": "code",
   "execution_count": 7,
   "metadata": {},
   "outputs": [
    {
     "data": {
      "text/html": [
       "<div>\n",
       "<style scoped>\n",
       "    .dataframe tbody tr th:only-of-type {\n",
       "        vertical-align: middle;\n",
       "    }\n",
       "\n",
       "    .dataframe tbody tr th {\n",
       "        vertical-align: top;\n",
       "    }\n",
       "\n",
       "    .dataframe thead th {\n",
       "        text-align: right;\n",
       "    }\n",
       "</style>\n",
       "<table border=\"1\" class=\"dataframe\">\n",
       "  <thead>\n",
       "    <tr style=\"text-align: right;\">\n",
       "      <th></th>\n",
       "      <th>Days to Ship Actual</th>\n",
       "      <th>Sales Forecast</th>\n",
       "      <th>Ship Status</th>\n",
       "      <th>Days to Ship Scheduled</th>\n",
       "      <th>Sales per Customer</th>\n",
       "      <th>Profit Ratio</th>\n",
       "      <th>Category</th>\n",
       "      <th>City</th>\n",
       "      <th>Country</th>\n",
       "      <th>Customer Name</th>\n",
       "      <th>...</th>\n",
       "      <th>Profit</th>\n",
       "      <th>Quantity</th>\n",
       "      <th>Region</th>\n",
       "      <th>Profit per Order</th>\n",
       "      <th>Sales</th>\n",
       "      <th>Segment</th>\n",
       "      <th>Ship Date</th>\n",
       "      <th>Ship Mode</th>\n",
       "      <th>State</th>\n",
       "      <th>Sub-Category</th>\n",
       "    </tr>\n",
       "  </thead>\n",
       "  <tbody>\n",
       "    <tr>\n",
       "      <th>0</th>\n",
       "      <td>3</td>\n",
       "      <td>$392</td>\n",
       "      <td>Shipped On Time</td>\n",
       "      <td>3</td>\n",
       "      <td>$261.96</td>\n",
       "      <td>0.160</td>\n",
       "      <td>Furniture</td>\n",
       "      <td>Henderson</td>\n",
       "      <td>United States</td>\n",
       "      <td>Claire Gute</td>\n",
       "      <td>...</td>\n",
       "      <td>$42</td>\n",
       "      <td>2</td>\n",
       "      <td>South</td>\n",
       "      <td>$41.91</td>\n",
       "      <td>$262</td>\n",
       "      <td>Consumer</td>\n",
       "      <td>2016-11-11</td>\n",
       "      <td>Second Class</td>\n",
       "      <td>Kentucky</td>\n",
       "      <td>Bookcases</td>\n",
       "    </tr>\n",
       "    <tr>\n",
       "      <th>1</th>\n",
       "      <td>3</td>\n",
       "      <td>$1,096</td>\n",
       "      <td>Shipped On Time</td>\n",
       "      <td>3</td>\n",
       "      <td>$731.94</td>\n",
       "      <td>0.300</td>\n",
       "      <td>Furniture</td>\n",
       "      <td>Henderson</td>\n",
       "      <td>United States</td>\n",
       "      <td>Claire Gute</td>\n",
       "      <td>...</td>\n",
       "      <td>$220</td>\n",
       "      <td>3</td>\n",
       "      <td>South</td>\n",
       "      <td>$219.58</td>\n",
       "      <td>$732</td>\n",
       "      <td>Consumer</td>\n",
       "      <td>2016-11-11</td>\n",
       "      <td>Second Class</td>\n",
       "      <td>Kentucky</td>\n",
       "      <td>Chairs</td>\n",
       "    </tr>\n",
       "    <tr>\n",
       "      <th>2</th>\n",
       "      <td>4</td>\n",
       "      <td>$22</td>\n",
       "      <td>Shipped Late</td>\n",
       "      <td>3</td>\n",
       "      <td>$14.62</td>\n",
       "      <td>0.470</td>\n",
       "      <td>Office Supplies</td>\n",
       "      <td>Los Angeles</td>\n",
       "      <td>United States</td>\n",
       "      <td>Darrin Van Huff</td>\n",
       "      <td>...</td>\n",
       "      <td>$7</td>\n",
       "      <td>2</td>\n",
       "      <td>West</td>\n",
       "      <td>$6.87</td>\n",
       "      <td>$15</td>\n",
       "      <td>Corporate</td>\n",
       "      <td>2016-06-16</td>\n",
       "      <td>Second Class</td>\n",
       "      <td>California</td>\n",
       "      <td>Labels</td>\n",
       "    </tr>\n",
       "    <tr>\n",
       "      <th>3</th>\n",
       "      <td>7</td>\n",
       "      <td>$1,434</td>\n",
       "      <td>Shipped Late</td>\n",
       "      <td>6</td>\n",
       "      <td>$957.58</td>\n",
       "      <td>-0.400</td>\n",
       "      <td>Furniture</td>\n",
       "      <td>Fort Lauderdale</td>\n",
       "      <td>United States</td>\n",
       "      <td>Sean O'Donnell</td>\n",
       "      <td>...</td>\n",
       "      <td>($383)</td>\n",
       "      <td>5</td>\n",
       "      <td>South</td>\n",
       "      <td>$-383.03</td>\n",
       "      <td>$958</td>\n",
       "      <td>Consumer</td>\n",
       "      <td>2015-10-18</td>\n",
       "      <td>Standard Class</td>\n",
       "      <td>Florida</td>\n",
       "      <td>Tables</td>\n",
       "    </tr>\n",
       "    <tr>\n",
       "      <th>4</th>\n",
       "      <td>7</td>\n",
       "      <td>$33</td>\n",
       "      <td>Shipped Late</td>\n",
       "      <td>6</td>\n",
       "      <td>$22.37</td>\n",
       "      <td>0.113</td>\n",
       "      <td>Office Supplies</td>\n",
       "      <td>Fort Lauderdale</td>\n",
       "      <td>United States</td>\n",
       "      <td>Sean O'Donnell</td>\n",
       "      <td>...</td>\n",
       "      <td>$3</td>\n",
       "      <td>2</td>\n",
       "      <td>South</td>\n",
       "      <td>$2.52</td>\n",
       "      <td>$22</td>\n",
       "      <td>Consumer</td>\n",
       "      <td>2015-10-18</td>\n",
       "      <td>Standard Class</td>\n",
       "      <td>Florida</td>\n",
       "      <td>Storage</td>\n",
       "    </tr>\n",
       "  </tbody>\n",
       "</table>\n",
       "<p>5 rows × 26 columns</p>\n",
       "</div>"
      ],
      "text/plain": [
       "   Days to Ship Actual Sales Forecast      Ship Status  \\\n",
       "0                    3           $392  Shipped On Time   \n",
       "1                    3         $1,096  Shipped On Time   \n",
       "2                    4            $22     Shipped Late   \n",
       "3                    7         $1,434     Shipped Late   \n",
       "4                    7            $33     Shipped Late   \n",
       "\n",
       "   Days to Ship Scheduled Sales per Customer  Profit Ratio         Category  \\\n",
       "0                       3            $261.96         0.160        Furniture   \n",
       "1                       3            $731.94         0.300        Furniture   \n",
       "2                       3             $14.62         0.470  Office Supplies   \n",
       "3                       6            $957.58        -0.400        Furniture   \n",
       "4                       6             $22.37         0.113  Office Supplies   \n",
       "\n",
       "              City        Country    Customer Name  ...  Profit  Quantity  \\\n",
       "0        Henderson  United States      Claire Gute  ...     $42         2   \n",
       "1        Henderson  United States      Claire Gute  ...    $220         3   \n",
       "2      Los Angeles  United States  Darrin Van Huff  ...      $7         2   \n",
       "3  Fort Lauderdale  United States   Sean O'Donnell  ...  ($383)         5   \n",
       "4  Fort Lauderdale  United States   Sean O'Donnell  ...      $3         2   \n",
       "\n",
       "  Region Profit per Order  Sales    Segment  Ship Date       Ship Mode  \\\n",
       "0  South           $41.91   $262   Consumer 2016-11-11    Second Class   \n",
       "1  South          $219.58   $732   Consumer 2016-11-11    Second Class   \n",
       "2   West            $6.87    $15  Corporate 2016-06-16    Second Class   \n",
       "3  South         $-383.03   $958   Consumer 2015-10-18  Standard Class   \n",
       "4  South            $2.52    $22   Consumer 2015-10-18  Standard Class   \n",
       "\n",
       "        State Sub-Category  \n",
       "0    Kentucky    Bookcases  \n",
       "1    Kentucky       Chairs  \n",
       "2  California       Labels  \n",
       "3     Florida       Tables  \n",
       "4     Florida      Storage  \n",
       "\n",
       "[5 rows x 26 columns]"
      ]
     },
     "execution_count": 7,
     "metadata": {},
     "output_type": "execute_result"
    }
   ],
   "source": [
    "df.head()\n"
   ]
  },
  {
   "cell_type": "markdown",
   "metadata": {},
   "source": [
    "# YEARWISE SALES GROWTH COMPARISION BAR CHART FOR 4 YRS"
   ]
  },
  {
   "cell_type": "code",
   "execution_count": 8,
   "metadata": {},
   "outputs": [
    {
     "name": "stdout",
     "output_type": "stream",
     "text": [
      "Order Date\n",
      "2014    484247.51\n",
      "2015    470532.42\n",
      "2016    609205.74\n",
      "2017    733215.11\n",
      "Name: Sales per Customer, dtype: float64\n"
     ]
    },
    {
     "data": {
      "image/png": "[encoded data removed]",
      "text/plain": [
       "<Figure size 432x288 with 1 Axes>"
      ]
     },
     "metadata": {
      "needs_background": "light"
     },
     "output_type": "display_data"
    }
   ],
   "source": [
    "'''\n",
    "YEARWISE SALES GROWTH COMPARISION BAR CHART FOR 4 YRS\n",
    "columns in excel-\n",
    "Days to Ship Actual,Sales Forecast,Ship Status,Days to Ship Scheduled,Sales per Customer,Profit Ratio,Category,City,Country,Customer Name,Discount,Number of Records,Order Date,Order ID,Postal Code,Product Name,Profit,Quantity,Region,Profit per Order,Sales,Segment,Ship Date,Ship Mode,State,Sub-Category\n",
    "'''\n",
    "\n",
    "\n",
    "file='Superstore.xlsx'\n",
    "df=pd.read_excel(file,usecols=['Order Date','Sales per Customer'])\n",
    "#print(df['Sales per Customer'].str.strip('$').str.replace#(',','').astype(float))\n",
    "df['Sales per Customer']=df['Sales per Customer'].str.strip('$').str.replace(',','').astype(float)\n",
    "\n",
    "pdata=df.groupby(df['Order Date'].dt.year)['Sales per Customer'].agg(np.sum)\n",
    "print(pdata)\n",
    "pdata.plot.bar(label='Sales')\n",
    "plt.title('Year Wise Total Sales Comparision')\n",
    "plt.xlabel('Years')\n",
    "plt.ylabel('Total Sales in $')\n",
    "plt.legend()\n",
    "plt.show()"
   ]
  },
  {
   "cell_type": "markdown",
   "metadata": {},
   "source": [
    "# YEARWISE SALES GROWTH COMPARISION ALONGWITH %WISE GROWTH CHART"
   ]
  },
  {
   "cell_type": "code",
   "execution_count": 9,
   "metadata": {},
   "outputs": [
    {
     "name": "stdout",
     "output_type": "stream",
     "text": [
      "Order Date\n",
      "2014    484247.51\n",
      "2015    470532.42\n",
      "2016    609205.74\n",
      "2017    733215.11\n",
      "Name: Sales per Customer, dtype: float64\n"
     ]
    },
    {
     "data": {
      "image/png": "[encoded data removed]",
      "text/plain": [
       "<Figure size 432x288 with 2 Axes>"
      ]
     },
     "metadata": {
      "needs_background": "light"
     },
     "output_type": "display_data"
    }
   ],
   "source": [
    "'''\n",
    "YEARWISE SALES GROWTH COMPARISION ALONGWITH %WISE GROWTH CHART\n",
    "\n",
    "this solution is by using converters ,while reading excel\n",
    "columns in excel-\n",
    "Days to Ship Actual,Sales Forecast,Ship Status,Days to Ship Scheduled,Sales per Customer,Profit Ratio,Category,City,Country,Customer Name,Discount,Number of Records,Order Date,Order ID,Postal Code,Product Name,Profit,Quantity,Region,Profit per Order,Sales,Segment,Ship Date,Ship Mode,State,Sub-Category\n",
    "'''\n",
    "\n",
    "file='Superstore.xlsx'\n",
    "\n",
    "#convert sales values into float,after removing \"$ ,\"\n",
    "df=pd.read_excel(file,usecols=['Order Date','Sales per Customer'],converters={'Sales per Customer':lambda x:float(x.strip('$').replace(',',''))})\n",
    "\n",
    "#grouping by year and sum of sales(yearwise)\n",
    "pdata=df.groupby(df['Order Date'].dt.year)['Sales per Customer'].agg(np.sum)\n",
    "print(pdata)\n",
    "\n",
    "#computing pct_change of sales \n",
    "yoy_gr=pdata.pct_change()*100\n",
    "\n",
    "\n",
    "#ploting YOY total sales data\n",
    "plt.subplot(1,2,1)\n",
    "pdata.plot.bar(label='Sales')\n",
    "plt.title('Year Wise Total Sales Comparision')\n",
    "plt.xlabel('Years')\n",
    "plt.ylabel('Total Sales in $')\n",
    "plt.legend()\n",
    "\n",
    "#ploting pct_change data\n",
    "plt.subplot(1,2,2)\n",
    "yoy_gr.plot.bar(label='Sales Growth')\n",
    "plt.title('Year Wise Sales Growth % Comparision')\n",
    "plt.xlabel('Years')\n",
    "plt.ylabel('Growth %')\n",
    "plt.legend(loc='upper left')\n",
    "plt.show()\n"
   ]
  },
  {
   "cell_type": "markdown",
   "metadata": {},
   "source": [
    "# YEARWISE PROFIT COMARISION BAR CHART FOR 4 YRS "
   ]
  },
  {
   "cell_type": "code",
   "execution_count": 10,
   "metadata": {},
   "outputs": [
    {
     "name": "stdout",
     "output_type": "stream",
     "text": [
      "     Order Date  Profit\n",
      "0    2016-11-08    42.0\n",
      "1    2016-11-08   220.0\n",
      "2    2016-06-12     7.0\n",
      "3    2015-10-11   383.0\n",
      "4    2015-10-11     3.0\n",
      "...         ...     ...\n",
      "9989 2014-01-21     4.0\n",
      "9990 2017-02-26    16.0\n",
      "9991 2017-02-26    19.0\n",
      "9992 2017-02-26    13.0\n",
      "9993 2017-05-04    73.0\n",
      "\n",
      "[9994 rows x 2 columns]\n",
      "Order Date\n",
      "2014    113326.0\n",
      "2015    126658.0\n",
      "2016    157528.0\n",
      "2017    201111.0\n",
      "Name: Profit, dtype: float64\n"
     ]
    },
    {
     "data": {
      "image/png": "[encoded data removed]",
      "text/plain": [
       "<Figure size 432x288 with 1 Axes>"
      ]
     },
     "metadata": {
      "needs_background": "light"
     },
     "output_type": "display_data"
    }
   ],
   "source": [
    "'''\n",
    "YEARWISE PROFIT COMARISION BAR CHART FOR 4 YRS \n",
    "columns in excel-\n",
    "Days to Ship Actual,Sales Forecast,Ship Status,Days to Ship Scheduled,Sales per Customer,Profit Ratio,Category,City,Country,Customer Name,Discount,Number of Records,Order Date,Order ID,Postal Code,Product Name,Profit,Quantity,Region,Profit per Order,Sales,Segment,Ship Date,Ship Mode,State,Sub-Category\n",
    "'''\n",
    "\n",
    "file='Superstore.xlsx'\n",
    "df=pd.read_excel(file,usecols=['Order Date','Profit'])\n",
    "#print(df)\n",
    "\n",
    "#using regex to remove \"$(),\" etc.\n",
    "df['Profit']=df['Profit'].replace('[$,()]','',regex=True).astype(float)\n",
    "print(df)\n",
    "\n",
    "\n",
    "pdata=df.groupby(df['Order Date'].dt.year)['Profit'].agg(np.sum)\n",
    "print(pdata)\n",
    "pdata.plot.bar(label='Profit')\n",
    "plt.title('Year Wise Total Profit Comparision')\n",
    "plt.xlabel('Years')\n",
    "plt.ylabel('Total Profit in $')\n",
    "plt.legend()\n",
    "plt.savefig('YWPC')\n",
    "plt.show()\n"
   ]
  },
  {
   "cell_type": "markdown",
   "metadata": {},
   "source": [
    "# YEARWISE PROFIT COMPARISION ALONGWITH PCT_CHANGE"
   ]
  },
  {
   "cell_type": "code",
   "execution_count": 11,
   "metadata": {},
   "outputs": [
    {
     "name": "stdout",
     "output_type": "stream",
     "text": [
      "Order Date\n",
      "2014    113326.0\n",
      "2015    126658.0\n",
      "2016    157528.0\n",
      "2017    201111.0\n",
      "Name: Profit, dtype: float64\n",
      "Order Date\n",
      "2014     0.000000\n",
      "2015    11.764291\n",
      "2016    24.372720\n",
      "2017    27.666827\n",
      "Name: Profit, dtype: float64\n"
     ]
    },
    {
     "data": {
      "image/png": "[encoded data removed]",
      "text/plain": [
       "<Figure size 432x288 with 2 Axes>"
      ]
     },
     "metadata": {
      "needs_background": "light"
     },
     "output_type": "display_data"
    }
   ],
   "source": [
    "'''\n",
    "YEARWISE PROFIT COMPARISION ALONGWITH PCT_CHANGE\n",
    "columns in excel-\n",
    "Days to Ship Actual,Sales Forecast,Ship Status,Days to Ship Scheduled,Sales per Customer,Profit Ratio,Category,City,Country,Customer Name,Discount,Number of Records,Order Date,Order ID,Postal Code,Product Name,Profit,Quantity,Region,Profit per Order,Sales,Segment,Ship Date,Ship Mode,State,Sub-Category\n",
    "'''\n",
    "from matplotlib import pyplot as plt\n",
    "import numpy as np\n",
    "import pandas as pd\n",
    "\n",
    "file='Superstore.xlsx'\n",
    "df=pd.read_excel(file,usecols=['Order Date','Profit'])\n",
    "\n",
    "#using regex to remove \"$(),\" etc.\n",
    "df['Profit']=df['Profit'].replace('[$,()]','',regex=True).astype(float)\n",
    "\n",
    "pdata=df.groupby(df['Order Date'].dt.year)['Profit'].agg(np.sum)\n",
    "print(pdata)\n",
    "\n",
    "yoy_grow=pdata.pct_change()*100\n",
    "yoy_grow=yoy_grow.fillna(0)\n",
    "print(yoy_grow)\n",
    "\n",
    "plt.subplot(1,2,1)\n",
    "pdata.plot.bar(label='Profit')\n",
    "plt.title('Year Wise Total Profit Comparision')\n",
    "plt.xlabel('Years')\n",
    "plt.ylabel('Total Profit in $')\n",
    "plt.legend()\n",
    "\n",
    "plt.subplot(1,2,2)\n",
    "yoy_grow.plot.bar(label='Profit%',color='g')\n",
    "plt.title('Year Wise Profit % Comparision')\n",
    "plt.xlabel('Years')\n",
    "plt.ylabel('Profit %')\n",
    "#plt.xticks([2014,2015,2016,2017])\n",
    "plt.legend()\n",
    "#plt.savefig('YWPCAW%.png')\n",
    "plt.show()\n"
   ]
  },
  {
   "cell_type": "markdown",
   "metadata": {},
   "source": [
    "# YEARWISE MONTHWISE SALES COMARISION BAR CHART FOR 4 YRS"
   ]
  },
  {
   "cell_type": "code",
   "execution_count": 12,
   "metadata": {},
   "outputs": [
    {
     "name": "stdout",
     "output_type": "stream",
     "text": [
      "Order Date  Order Date\n",
      "2014        1              14236.90\n",
      "            2               4519.92\n",
      "            3              55691.04\n",
      "            4              28295.35\n",
      "            5              23648.26\n",
      "            6              34595.13\n",
      "            7              33946.37\n",
      "            8              27909.46\n",
      "            9              81777.34\n",
      "            10             31453.37\n",
      "            11             78628.73\n",
      "            12             69545.64\n",
      "2015        1              18174.08\n",
      "            2              11951.40\n",
      "            3              38726.26\n",
      "            4              34195.24\n",
      "            5              30131.72\n",
      "            6              24797.31\n",
      "            7              28765.32\n",
      "            8              36898.31\n",
      "            9              64595.87\n",
      "            10             31404.90\n",
      "            11             75972.50\n",
      "            12             74919.51\n",
      "2016        1              18542.52\n",
      "            2              22978.82\n",
      "            3              51715.85\n",
      "            4              38750.02\n",
      "            5              56987.75\n",
      "            6              40344.51\n",
      "            7              39261.98\n",
      "            8              31115.34\n",
      "            9              73410.08\n",
      "            10             59687.79\n",
      "            11             79412.02\n",
      "            12             96999.06\n",
      "2017        1              43971.37\n",
      "            2              20301.12\n",
      "            3              58872.35\n",
      "            4              36521.52\n",
      "            5              44261.08\n",
      "            6              52981.70\n",
      "            7              45264.42\n",
      "            8              63120.85\n",
      "            9              87866.66\n",
      "            10             77776.93\n",
      "            11            118447.80\n",
      "            12             83829.31\n",
      "Name: Sales per Customer, dtype: float64\n"
     ]
    },
    {
     "data": {
      "image/png": "[encoded data removed]",
      "text/plain": [
       "<Figure size 432x288 with 1 Axes>"
      ]
     },
     "metadata": {
      "needs_background": "light"
     },
     "output_type": "display_data"
    }
   ],
   "source": [
    "'''\n",
    "YEARWISE MONTHWISE SALES COMARISION BAR CHART FOR 4 YRS \n",
    "columns in excel-\n",
    "Days to Ship Actual,Sales Forecast,Ship Status,Days to Ship Scheduled,Sales per Customer,Profit Ratio,Category,City,Country,Customer Name,Discount,Number of Records,Order Date,Order ID,Postal Code,Product Name,Profit,Quantity,Region,Profit per Order,Sales,Segment,Ship Date,Ship Mode,State,Sub-Category\n",
    "'''\n",
    "from matplotlib import pyplot as plt\n",
    "import numpy as np\n",
    "import pandas as pd\n",
    "\n",
    "file='Superstore.xlsx'\n",
    "df=pd.read_excel(file,usecols=['Order Date','Sales per Customer'])\n",
    "\n",
    "#using regex to remove \"$(),\" etc.\n",
    "df['Sales per Customer']=df['Sales per Customer'].replace('[$,()]','',regex=True).astype(float)\n",
    "\n",
    "pdata=df.groupby([df['Order Date'].dt.year,df['Order Date'].dt.month])['Sales per Customer'].agg(np.sum)\n",
    "print(pdata)\n",
    "pdata.plot.bar(label='Total Sales Monthwise')\n",
    "plt.title('Month/Year Wise Sales Comparision')\n",
    "plt.xlabel('Months/Years')\n",
    "plt.ylabel('Total Sales in $')\n",
    "plt.legend()\n",
    "plt.show()"
   ]
  },
  {
   "cell_type": "markdown",
   "metadata": {},
   "source": [
    "# YEARWISE MONTHWISE SALES COMARISION LINE CHART FOR 4 YRS "
   ]
  },
  {
   "cell_type": "code",
   "execution_count": 13,
   "metadata": {},
   "outputs": [
    {
     "name": "stdout",
     "output_type": "stream",
     "text": [
      "Order Date  Order Date\n",
      "2014        1              14236.90\n",
      "            2               4519.92\n",
      "            3              55691.04\n",
      "            4              28295.35\n",
      "            5              23648.26\n",
      "            6              34595.13\n",
      "            7              33946.37\n",
      "            8              27909.46\n",
      "            9              81777.34\n",
      "            10             31453.37\n",
      "            11             78628.73\n",
      "            12             69545.64\n",
      "2015        1              18174.08\n",
      "            2              11951.40\n",
      "            3              38726.26\n",
      "            4              34195.24\n",
      "            5              30131.72\n",
      "            6              24797.31\n",
      "            7              28765.32\n",
      "            8              36898.31\n",
      "            9              64595.87\n",
      "            10             31404.90\n",
      "            11             75972.50\n",
      "            12             74919.51\n",
      "2016        1              18542.52\n",
      "            2              22978.82\n",
      "            3              51715.85\n",
      "            4              38750.02\n",
      "            5              56987.75\n",
      "            6              40344.51\n",
      "            7              39261.98\n",
      "            8              31115.34\n",
      "            9              73410.08\n",
      "            10             59687.79\n",
      "            11             79412.02\n",
      "            12             96999.06\n",
      "2017        1              43971.37\n",
      "            2              20301.12\n",
      "            3              58872.35\n",
      "            4              36521.52\n",
      "            5              44261.08\n",
      "            6              52981.70\n",
      "            7              45264.42\n",
      "            8              63120.85\n",
      "            9              87866.66\n",
      "            10             77776.93\n",
      "            11            118447.80\n",
      "            12             83829.31\n",
      "Name: Sales per Customer, dtype: float64\n"
     ]
    },
    {
     "data": {
      "image/png": "[encoded data removed]",
      "text/plain": [
       "<Figure size 432x288 with 1 Axes>"
      ]
     },
     "metadata": {
      "needs_background": "light"
     },
     "output_type": "display_data"
    }
   ],
   "source": [
    "'''\n",
    "YEARWISE MONTHWISE SALES COMARISION LINE CHART FOR 4 YRS \n",
    "columns in excel-\n",
    "Days to Ship Actual,Sales Forecast,Ship Status,Days to Ship Scheduled,Sales per Customer,Profit Ratio,Category,City,Country,Customer Name,Discount,Number of Records,Order Date,Order ID,Postal Code,Product Name,Profit,Quantity,Region,Profit per Order,Sales,Segment,Ship Date,Ship Mode,State,Sub-Category\n",
    "'''\n",
    "from matplotlib import pyplot as plt\n",
    "import numpy as np\n",
    "import pandas as pd\n",
    "\n",
    "file='Superstore.xlsx'\n",
    "df=pd.read_excel(file,usecols=['Order Date','Sales per Customer'])\n",
    "\n",
    "#using regex to remove \"$(),\" etc.\n",
    "df['Sales per Customer']=df['Sales per Customer'].replace('[$,()]','',regex=True).astype(float)\n",
    "\n",
    "pdata=df.groupby([df['Order Date'].dt.year,df['Order Date'].dt.month])['Sales per Customer'].agg(np.sum)\n",
    "\n",
    "print(pdata)\n",
    "\n",
    "pdata.plot(label='Monthly Sales',style='g-o')\n",
    "plt.title('Month/Year Wise Sales Comparision')\n",
    "plt.xlabel('Months/Years')\n",
    "plt.ylabel('Total Sales in $')\n",
    "plt.legend()\n",
    "plt.show()\n",
    "\n",
    "           "
   ]
  },
  {
   "cell_type": "markdown",
   "metadata": {},
   "source": [
    "# YEARWISE MONTHWISE PROFIT COMARISION BAR CHART FOR 4 YRS "
   ]
  },
  {
   "cell_type": "code",
   "execution_count": 14,
   "metadata": {},
   "outputs": [
    {
     "name": "stdout",
     "output_type": "stream",
     "text": [
      "Order Date  Order Date\n",
      "2014        1              3760.0\n",
      "            2              1063.0\n",
      "            3              9375.0\n",
      "            4              5336.0\n",
      "            5              6250.0\n",
      "            6              7569.0\n",
      "            7              8370.0\n",
      "            8              7575.0\n",
      "            9             22582.0\n",
      "            10             6552.0\n",
      "            11            19096.0\n",
      "            12            15798.0\n",
      "2015        1              5683.0\n",
      "            2              3502.0\n",
      "            3             11770.0\n",
      "            4             10755.0\n",
      "            5              6504.0\n",
      "            6              6952.0\n",
      "            7              6774.0\n",
      "            8              8863.0\n",
      "            9             15947.0\n",
      "            10             7145.0\n",
      "            11            20259.0\n",
      "            12            22504.0\n",
      "2016        1              4718.0\n",
      "            2              5888.0\n",
      "            3             11186.0\n",
      "            4             10799.0\n",
      "            5             11645.0\n",
      "            6              8158.0\n",
      "            7              8991.0\n",
      "            8              6026.0\n",
      "            9             19263.0\n",
      "            10            21581.0\n",
      "            11            23511.0\n",
      "            12            25762.0\n",
      "2017        1             12103.0\n",
      "            2              4978.0\n",
      "            3             18962.0\n",
      "            4             10834.0\n",
      "            5             10866.0\n",
      "            6             12300.0\n",
      "            7             11531.0\n",
      "            8             15608.0\n",
      "            9             23813.0\n",
      "            10            22536.0\n",
      "            11            33671.0\n",
      "            12            23909.0\n",
      "Name: Profit, dtype: float64\n"
     ]
    },
    {
     "data": {
      "image/png": "[encoded data removed]",
      "text/plain": [
       "<Figure size 432x288 with 1 Axes>"
      ]
     },
     "metadata": {
      "needs_background": "light"
     },
     "output_type": "display_data"
    }
   ],
   "source": [
    "'''\n",
    "YEARWISE MONTHWISE PROFIT COMARISION BAR CHART FOR 4 YRS \n",
    "columns in excel-\n",
    "Days to Ship Actual,Sales Forecast,Ship Status,Days to Ship Scheduled,Sales per Customer,Profit Ratio,Category,City,Country,Customer Name,Discount,Number of Records,Order Date,Order ID,Postal Code,Product Name,Profit,Quantity,Region,Profit per Order,Sales,Segment,Ship Date,Ship Mode,State,Sub-Category\n",
    "'''\n",
    "from matplotlib import pyplot as plt\n",
    "import numpy as np\n",
    "import pandas as pd\n",
    "\n",
    "file='Superstore.xlsx'\n",
    "df=pd.read_excel(file,usecols=['Order Date','Profit'])\n",
    "#print(df)\n",
    "\n",
    "#using regex to remove \"$(),\" etc.\n",
    "df['Profit']=df['Profit'].replace('[$,()]','',regex=True).astype(float)\n",
    "\n",
    "pdata=df.groupby([df['Order Date'].dt.year,df['Order Date'].dt.month])['Profit'].agg(np.sum)\n",
    "print(pdata)\n",
    "pdata.plot.bar(label='Monthly Profit')\n",
    "plt.title('Month/Year Wise Profit Comparision')\n",
    "plt.xlabel('Months/Years')\n",
    "plt.ylabel('Total Profit in $')\n",
    "plt.legend()\n",
    "plt.show()\n"
   ]
  },
  {
   "cell_type": "markdown",
   "metadata": {},
   "source": [
    "# YEARWISE QUARTERWISE SALES COMPARISION BAR CHART FOR 4 YRS "
   ]
  },
  {
   "cell_type": "code",
   "execution_count": 15,
   "metadata": {},
   "outputs": [
    {
     "name": "stdout",
     "output_type": "stream",
     "text": [
      "Order Date  Order Date\n",
      "2014        1              74447.86\n",
      "            2              86538.74\n",
      "            3             143633.17\n",
      "            4             179627.74\n",
      "2015        1              68851.74\n",
      "            2              89124.27\n",
      "            3             130259.50\n",
      "            4             182296.91\n",
      "2016        1              93237.19\n",
      "            2             136082.28\n",
      "            3             143787.40\n",
      "            4             236098.87\n",
      "2017        1             123144.84\n",
      "            2             133764.30\n",
      "            3             196251.93\n",
      "            4             280054.04\n",
      "Name: Sales per Customer, dtype: float64\n"
     ]
    },
    {
     "data": {
      "image/png": "[encoded data removed]",
      "text/plain": [
       "<Figure size 432x288 with 1 Axes>"
      ]
     },
     "metadata": {
      "needs_background": "light"
     },
     "output_type": "display_data"
    }
   ],
   "source": [
    "'''\n",
    "YEARWISE QUARTERWISE SALES COMPARISION BAR CHART FOR 4 YRS \n",
    "columns in excel-\n",
    "Days to Ship Actual,Sales Forecast,Ship Status,Days to Ship Scheduled,Sales per Customer,Profit Ratio,Category,City,Country,Customer Name,Discount,Number of Records,Order Date,Order ID,Postal Code,Product Name,Profit,Quantity,Region,Profit per Order,Sales,Segment,Ship Date,Ship Mode,State,Sub-Category\n",
    "'''\n",
    "from matplotlib import pyplot as plt\n",
    "import numpy as np\n",
    "import pandas as pd\n",
    "\n",
    "file='Superstore.xlsx'\n",
    "df=pd.read_excel(file,usecols=['Order Date','Sales per Customer'])\n",
    "#print(df)\n",
    "\n",
    "#using regex to remove \"$(),\" etc.\n",
    "df['Sales per Customer']=df['Sales per Customer'].replace('[$,()]','',regex=True).astype(float)\n",
    "\n",
    "\n",
    "#to get series\n",
    "pdata=df.groupby([df['Order Date'].dt.year,df['Order Date'].dt.quarter])['Sales per Customer'].agg(np.sum)\n",
    "'''\n",
    "#to get dataframe put in double [['Sales per Customer' ]]\n",
    "pdata=df.groupby([df['Order Date'].dt.year,df['Order Date'].dt.quarter])[['Sales per Customer']].agg(np.sum)\n",
    "'''\n",
    "print(pdata)\n",
    "\n",
    "pdata.plot.bar(label='Quarterly Sales')\n",
    "plt.title('Quarter/Year Wise Sales Comparision')\n",
    "plt.xlabel('Quarter/Years')\n",
    "plt.ylabel('Total Sales in $')\n",
    "plt.legend()\n",
    "plt.show()\n"
   ]
  },
  {
   "cell_type": "markdown",
   "metadata": {},
   "source": [
    "# YEARWISE QUARTERWISE PROFIT COMARISION BAR CHART FOR 4 YRS "
   ]
  },
  {
   "cell_type": "code",
   "execution_count": 16,
   "metadata": {},
   "outputs": [
    {
     "name": "stdout",
     "output_type": "stream",
     "text": [
      "                        Profit\n",
      "Order Date Order Date         \n",
      "2014       1           14198.0\n",
      "           2           19155.0\n",
      "           3           38527.0\n",
      "           4           41446.0\n",
      "2015       1           20955.0\n",
      "           2           24211.0\n",
      "           3           31584.0\n",
      "           4           49908.0\n",
      "2016       1           21792.0\n",
      "           2           30602.0\n",
      "           3           34280.0\n",
      "           4           70854.0\n",
      "2017       1           36043.0\n",
      "           2           34000.0\n",
      "           3           50952.0\n",
      "           4           80116.0\n"
     ]
    },
    {
     "data": {
      "image/png": "[encoded data removed]",
      "text/plain": [
       "<Figure size 432x288 with 1 Axes>"
      ]
     },
     "metadata": {
      "needs_background": "light"
     },
     "output_type": "display_data"
    }
   ],
   "source": [
    "'''\n",
    "YEARWISE QUARTERWISE PROFIT COMARISION BAR CHART FOR 4 YRS \n",
    "columns in excel-\n",
    "Days to Ship Actual,Sales Forecast,Ship Status,Days to Ship Scheduled,Sales per Customer,Profit Ratio,Category,City,Country,Customer Name,Discount,Number of Records,Order Date,Order ID,Postal Code,Product Name,Profit,Quantity,Region,Profit per Order,Sales,Segment,Ship Date,Ship Mode,State,Sub-Category\n",
    "'''\n",
    "from matplotlib import pyplot as plt\n",
    "import numpy as np\n",
    "import pandas as pd\n",
    "\n",
    "file='Superstore.xlsx'\n",
    "df=pd.read_excel(file,usecols=['Order Date','Profit'])\n",
    "#print(df)\n",
    "\n",
    "#using regex to remove \"$(),\" etc.\n",
    "df['Profit']=df['Profit'].replace('[$,()]','',regex=True).astype(float)\n",
    "\n",
    "pdata=df.groupby([df['Order Date'].dt.year,df['Order Date'].dt.quarter])[['Profit']].agg(np.sum)\n",
    "\n",
    "print(pdata)\n",
    "\n",
    "\n",
    "pdata.plot.bar(label='Quarterly Profit')\n",
    "plt.title('Quarter/Year Wise Profit Comparision')\n",
    "plt.xlabel('Quarter/Years')\n",
    "plt.ylabel('Total Profit in $')\n",
    "plt.legend()\n",
    "plt.show()\n"
   ]
  },
  {
   "cell_type": "markdown",
   "metadata": {},
   "source": [
    "# MONTHWISE (ignore years)SALES COMPARISION BAR CHART FOR 4 YRS "
   ]
  },
  {
   "cell_type": "code",
   "execution_count": 17,
   "metadata": {},
   "outputs": [
    {
     "name": "stdout",
     "output_type": "stream",
     "text": [
      "Order Date\n",
      "1      94924.87\n",
      "2      59751.26\n",
      "3     205005.50\n",
      "4     137762.13\n",
      "5     155028.81\n",
      "6     152718.65\n",
      "7     147238.09\n",
      "8     159043.96\n",
      "9     307649.95\n",
      "10    200322.99\n",
      "11    352461.05\n",
      "12    325293.52\n",
      "Name: Sales per Customer, dtype: float64\n"
     ]
    },
    {
     "data": {
      "image/png": "[encoded data removed]",
      "text/plain": [
       "<Figure size 432x288 with 1 Axes>"
      ]
     },
     "metadata": {
      "needs_background": "light"
     },
     "output_type": "display_data"
    }
   ],
   "source": [
    "'''\n",
    "MONTHWISE (ignore years)SALES COMPARISION BAR CHART FOR 4 YRS \n",
    "columns in excel-\n",
    "Days to Ship Actual,Sales Forecast,Ship Status,Days to Ship Scheduled,Sales per Customer,Profit Ratio,Category,City,Country,Customer Name,Discount,Number of Records,Order Date,Order ID,Postal Code,Product Name,Profit,Quantity,Region,Profit per Order,Sales,Segment,Ship Date,Ship Mode,State,Sub-Category\n",
    "'''\n",
    "from matplotlib import pyplot as plt\n",
    "import numpy as np\n",
    "import pandas as pd\n",
    "\n",
    "file='Superstore.xlsx'\n",
    "df=pd.read_excel(file,usecols=['Order Date','Sales per Customer'])\n",
    "#print(df)\n",
    "\n",
    "#using regex to remove \"$(),\" etc.\n",
    "df['Sales per Customer']=df['Sales per Customer'].replace('[$,()]','',regex=True).astype(float)\n",
    "\n",
    "\n",
    "#to get series\n",
    "pdata=df.groupby([df['Order Date'].dt.month])['Sales per Customer'].agg(np.sum)\n",
    "'''\n",
    "#to get dataframe put in double [['Sales per Customer' ]]\n",
    "pdata=df.groupby([df['Order Date'].dt.month])[['Sales per Customer']].agg(np.sum)\n",
    "'''\n",
    "print(pdata)\n",
    "\n",
    "pdata.plot.bar(label='Monthwise Sales 4yrs')\n",
    "plt.title('Month Wise Sales 4yrs Comparision')\n",
    "plt.xlabel('Months')\n",
    "plt.ylabel('Total Sales in $')\n",
    "plt.legend()\n",
    "plt.show()\n",
    "\n"
   ]
  },
  {
   "cell_type": "markdown",
   "metadata": {},
   "source": [
    "# MONTHWISE(ignore yrs)PROFIT COMARISION BAR CHART FOR 4 YRS "
   ]
  },
  {
   "cell_type": "code",
   "execution_count": 18,
   "metadata": {},
   "outputs": [
    {
     "name": "stdout",
     "output_type": "stream",
     "text": [
      "             Profit\n",
      "Order Date         \n",
      "1           26264.0\n",
      "2           15431.0\n",
      "3           51293.0\n",
      "4           37724.0\n",
      "5           35265.0\n",
      "6           34979.0\n",
      "7           35666.0\n",
      "8           38072.0\n",
      "9           81605.0\n",
      "10          57814.0\n",
      "11          96537.0\n",
      "12          87973.0\n"
     ]
    },
    {
     "data": {
      "image/png": "[encoded data removed]",
      "text/plain": [
       "<Figure size 432x288 with 1 Axes>"
      ]
     },
     "metadata": {
      "needs_background": "light"
     },
     "output_type": "display_data"
    }
   ],
   "source": [
    "'''\n",
    "MONTHWISE(ignore yrs)PROFIT COMARISION BAR CHART FOR 4 YRS \n",
    "columns in excel-\n",
    "Days to Ship Actual,Sales Forecast,Ship Status,Days to Ship Scheduled,Sales per Customer,Profit Ratio,Category,City,Country,Customer Name,Discount,Number of Records,Order Date,Order ID,Postal Code,Product Name,Profit,Quantity,Region,Profit per Order,Sales,Segment,Ship Date,Ship Mode,State,Sub-Category\n",
    "'''\n",
    "from matplotlib import pyplot as plt\n",
    "import numpy as np\n",
    "import pandas as pd\n",
    "\n",
    "file='Superstore.xlsx'\n",
    "df=pd.read_excel(file,usecols=['Order Date','Profit'])\n",
    "#print(df)\n",
    "\n",
    "#using regex to remove \"$(),\" etc.\n",
    "df['Profit']=df['Profit'].replace('[$,()]','',regex=True).astype(float)\n",
    "\n",
    "pdata=df.groupby([df['Order Date'].dt.month])[['Profit']].agg(np.sum)\n",
    "\n",
    "print(pdata)\n",
    "\n",
    "\n",
    "pdata.plot.bar(label='Monthly Profit for 4yrs')\n",
    "plt.title('Month Wise Profit Comparision')\n",
    "plt.xlabel('Month')\n",
    "plt.ylabel('Total Profit in $')\n",
    "plt.legend()\n",
    "plt.show()\n",
    "\n"
   ]
  },
  {
   "cell_type": "markdown",
   "metadata": {},
   "source": [
    "# MONTHWISE YEARWISE PROFIT COMARISION BAR CHART FOR 4 YRS "
   ]
  },
  {
   "cell_type": "code",
   "execution_count": 19,
   "metadata": {},
   "outputs": [
    {
     "name": "stdout",
     "output_type": "stream",
     "text": [
      "                        Profit\n",
      "Order Date Order Date         \n",
      "1          2014         3760.0\n",
      "           2015         5683.0\n",
      "           2016         4718.0\n",
      "           2017        12103.0\n",
      "2          2014         1063.0\n",
      "           2015         3502.0\n",
      "           2016         5888.0\n",
      "           2017         4978.0\n",
      "3          2014         9375.0\n",
      "           2015        11770.0\n",
      "           2016        11186.0\n",
      "           2017        18962.0\n",
      "4          2014         5336.0\n",
      "           2015        10755.0\n",
      "           2016        10799.0\n",
      "           2017        10834.0\n",
      "5          2014         6250.0\n",
      "           2015         6504.0\n",
      "           2016        11645.0\n",
      "           2017        10866.0\n",
      "6          2014         7569.0\n",
      "           2015         6952.0\n",
      "           2016         8158.0\n",
      "           2017        12300.0\n",
      "7          2014         8370.0\n",
      "           2015         6774.0\n",
      "           2016         8991.0\n",
      "           2017        11531.0\n",
      "8          2014         7575.0\n",
      "           2015         8863.0\n",
      "           2016         6026.0\n",
      "           2017        15608.0\n",
      "9          2014        22582.0\n",
      "           2015        15947.0\n",
      "           2016        19263.0\n",
      "           2017        23813.0\n",
      "10         2014         6552.0\n",
      "           2015         7145.0\n",
      "           2016        21581.0\n",
      "           2017        22536.0\n",
      "11         2014        19096.0\n",
      "           2015        20259.0\n",
      "           2016        23511.0\n",
      "           2017        33671.0\n",
      "12         2014        15798.0\n",
      "           2015        22504.0\n",
      "           2016        25762.0\n",
      "           2017        23909.0\n"
     ]
    },
    {
     "data": {
      "image/png": "[encoded data removed]",
      "text/plain": [
       "<Figure size 432x288 with 1 Axes>"
      ]
     },
     "metadata": {
      "needs_background": "light"
     },
     "output_type": "display_data"
    }
   ],
   "source": [
    "'''\n",
    "MONTHWISE YEARWISE PROFIT COMARISION BAR CHART FOR 4 YRS \n",
    "columns in excel-\n",
    "Days to Ship Actual,Sales Forecast,Ship Status,Days to Ship Scheduled,Sales per Customer,Profit Ratio,Category,City,Country,Customer Name,Discount,Number of Records,Order Date,Order ID,Postal Code,Product Name,Profit,Quantity,Region,Profit per Order,Sales,Segment,Ship Date,Ship Mode,State,Sub-Category\n",
    "'''\n",
    "from matplotlib import pyplot as plt\n",
    "import numpy as np\n",
    "import pandas as pd\n",
    "\n",
    "file='Superstore.xlsx'\n",
    "df=pd.read_excel(file,usecols=['Order Date','Profit'])\n",
    "#print(df)\n",
    "\n",
    "#using regex to remove \"$(),\" etc.\n",
    "df['Profit']=df['Profit'].replace('[$,()]','',regex=True).astype(float)\n",
    "\n",
    "pdata=df.groupby([df['Order Date'].dt.month,df['Order Date'].dt.year])[['Profit']].agg(np.sum)\n",
    "\n",
    "print(pdata)\n",
    "\n",
    "\n",
    "pdata.plot.bar(label='Monthly Profit for 4yrs')\n",
    "plt.title('Month Wise Profit Commparision')\n",
    "plt.xlabel('Month')\n",
    "plt.ylabel('Total Profit in $')\n",
    "plt.legend()\n",
    "plt.show()"
   ]
  },
  {
   "cell_type": "code",
   "execution_count": null,
   "metadata": {},
   "outputs": [],
   "source": []
  },
  {
   "cell_type": "code",
   "execution_count": null,
   "metadata": {},
   "outputs": [],
   "source": []
  }
 ],
 "metadata": {
  "kernelspec": {
   "display_name": "Python 3",
   "language": "python",
   "name": "python3"
  },
  "language_info": {
   "codemirror_mode": {
    "name": "ipython",
    "version": 3
   },
   "file_extension": ".py",
   "mimetype": "text/x-python",
   "name": "python",
   "nbconvert_exporter": "python",
   "pygments_lexer": "ipython3",
   "version": "3.7.4"
  }
 },
 "nbformat": 4,
 "nbformat_minor": 4
}
